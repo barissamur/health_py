{
 "cells": [
  {
   "cell_type": "code",
   "execution_count": 2,
   "metadata": {},
   "outputs": [],
   "source": [
    "import pandas as pd\n",
    "from sklearn.ensemble import RandomForestClassifier\n",
    "from sklearn.preprocessing import StandardScaler\n",
    "from sklearn.model_selection import train_test_split, cross_val_score\n",
    "from sklearn.preprocessing import LabelEncoder\n",
    "from sklearn.metrics import accuracy_score\n",
    "from sklearn.model_selection import GridSearchCV\n",
    "from sklearn.metrics import f1_score\n",
    "from sklearn.tree import DecisionTreeClassifier\n",
    "import pickle\n",
    "import numpy as np"
   ]
  },
  {
   "cell_type": "code",
   "execution_count": 4,
   "metadata": {},
   "outputs": [],
   "source": [
    "# Veri setini yüklemek\n",
    "df = pd.read_csv(\"Training.csv\")\n",
    "\n",
    "# Özellikler ve hedef değişkeni ayırma\n",
    "X = df.iloc[:, :-1]  # Hedef değişken hariç tüm sütunlar\n",
    "y = df[\"prognosis\"]  # Hedef değişken\n",
    "\n",
    " # 'prognosis' sütununu X'ten çıkarma\n",
    "X = X.drop('prognosis', axis=1) "
   ]
  },
  {
   "cell_type": "code",
   "execution_count": 5,
   "metadata": {},
   "outputs": [],
   "source": [
    "# LabelEncoder nesnesini oluştur ve hedef değişkeni dönüştür\n",
    "label_encoder = LabelEncoder()\n",
    "y_encoded = label_encoder.fit_transform(y)\n",
    "\n",
    "# Veriyi eğitim ve test setlerine ayırma\n",
    "X_train, X_test, y_train, y_test = train_test_split(\n",
    "    X, y_encoded, test_size=0.2, random_state=42\n",
    ") "
   ]
  },
  {
   "cell_type": "code",
   "execution_count": 6,
   "metadata": {},
   "outputs": [],
   "source": [
    "sc = StandardScaler()\n",
    "X_train=sc.fit_transform(X_train)\n",
    "X_test=sc.transform(X_test)\n"
   ]
  },
  {
   "cell_type": "code",
   "execution_count": 7,
   "metadata": {},
   "outputs": [],
   "source": [
    "def modeller(model):\n",
    "    model.fit(X_train,y_train)\n",
    "    tahmin=model.predict(X_test)\n",
    "    skor=accuracy_score(y_test,tahmin)\n",
    "    return round(skor*100,2)\n",
    "\n",
    "print(modeller(DecisionTreeClassifier()))"
   ]
  },
  {
   "cell_type": "code",
   "execution_count": 8,
   "metadata": {},
   "outputs": [
    {
     "name": "stdout",
     "output_type": "stream",
     "text": [
      "Çapraz doğrulama skorları: [1. 1. 1. 1. 1.]\n",
      "Ortalama çapraz doğrulama doğruluk: 1.0\n"
     ]
    }
   ],
   "source": [
    "\n",
    "# RandomForestClassifier modelini oluşturma\n",
    "# Burada bazı parametreleri ayarlayarak model karmaşıklığını kontrol edebilirsiniz.\n",
    "model = RandomForestClassifier(n_estimators=100, max_depth=None, random_state=42)\n",
    "\n",
    "# K-fold çapraz doğrulama ile modelin genelleştirme performansını değerlendirme\n",
    "cv_scores = cross_val_score(model, X_train, y_train, cv=5)\n",
    "print(f\"Çapraz doğrulama skorları: {cv_scores}\")\n",
    "print(f\"Ortalama çapraz doğrulama doğruluk: {cv_scores.mean()}\")"
   ]
  },
  {
   "cell_type": "code",
   "execution_count": 10,
   "metadata": {},
   "outputs": [
    {
     "name": "stdout",
     "output_type": "stream",
     "text": [
      "Fitting 5 folds for each of 27 candidates, totalling 135 fits\n",
      "En iyi parametreler: {'max_depth': 10, 'min_samples_split': 2, 'n_estimators': 100}\n",
      "En iyi skor: 1.0\n"
     ]
    }
   ],
   "source": [
    " # Hiperparametre aralıklarını belirleme\n",
    "param_grid = {\n",
    "    'n_estimators': [50, 100, 150],\n",
    "    'max_depth': [10, 20, None],\n",
    "    'min_samples_split': [2, 4, 6]\n",
    "}\n",
    "\n",
    "# GridSearchCV ile hiperparametre optimizasyonu\n",
    "grid_search = GridSearchCV(estimator=model, param_grid=param_grid, cv=5, n_jobs=-1, verbose=2)\n",
    "grid_search.fit(X_train, y_train)\n",
    "\n",
    "# En iyi parametreleri ve bunların skorlarını yazdırma\n",
    "print(\"En iyi parametreler:\", grid_search.best_params_)\n",
    "print(\"En iyi skor:\", grid_search.best_score_)\n"
   ]
  },
  {
   "cell_type": "code",
   "execution_count": 11,
   "metadata": {},
   "outputs": [
    {
     "name": "stdout",
     "output_type": "stream",
     "text": [
      "Test seti üzerindeki modelin doğruluk oranı: 0.9761904761904762\n"
     ]
    }
   ],
   "source": [
    "# Test setini yüklemek\n",
    "df_test = pd.read_csv(\"Testing.csv\")\n",
    "\n",
    "# Özellikler ve hedef değişkeni ayırma\n",
    "X_test = df_test.iloc[:, :-1]  # Hedef değişken hariç tüm sütunlar\n",
    "y_test = df_test[\"prognosis\"]  # Hedef değişken\n",
    "\n",
    "# Hedef değişkeni sayısal değerlere dönüştür\n",
    "y_test_encoded = label_encoder.transform(y_test)\n",
    "\n",
    "# GridSearchCV ile bulunan en iyi parametrelerle modeli yeniden oluşturma\n",
    "best_params = grid_search.best_params_\n",
    "model_best = RandomForestClassifier(**best_params, random_state=42)\n",
    "\n",
    "# Modeli eğitim seti ile eğitme\n",
    "model_best.fit(X_train, y_train)\n",
    "\n",
    "# Modeli test seti üzerinde değerlendirme\n",
    "y_pred = model_best.predict(X_test)\n",
    "accuracy = accuracy_score(y_test_encoded, y_pred)\n",
    "print(f\"Test seti üzerindeki modelin doğruluk oranı: {accuracy}\")\n"
   ]
  },
  {
   "cell_type": "code",
   "execution_count": 13,
   "metadata": {},
   "outputs": [
    {
     "name": "stdout",
     "output_type": "stream",
     "text": [
      "F1 Skoru: 0.9761904761904762\n"
     ]
    }
   ],
   "source": [
    "\n",
    "# Modelin F1 skorunu hesaplama\n",
    "f1 = f1_score(y_test_encoded, y_pred, average='weighted')\n",
    "print(f\"F1 Skoru: {f1}\")"
   ]
  },
  {
   "cell_type": "code",
   "execution_count": 15,
   "metadata": {},
   "outputs": [
    {
     "name": "stdout",
     "output_type": "stream",
     "text": [
      "Model 'model.pkl' olarak kaydedildi.\n"
     ]
    }
   ],
   "source": [
    "\n",
    "# Modeli 'model.pkl' olarak kaydetme\n",
    "with open('model.pkl', 'wb') as file:\n",
    "    pickle.dump(model_best, file)\n",
    "\n",
    "print(\"Model 'model.pkl' olarak kaydedildi.\")"
   ]
  },
  {
   "cell_type": "code",
   "execution_count": 21,
   "metadata": {},
   "outputs": [],
   "source": [
    "importances = model_best.feature_importances_\n",
    "feature_names = X_train.columns\n",
    "feature_importances = sorted(zip(importances, feature_names), reverse=True)\n"
   ]
  }
 ],
 "metadata": {
  "kernelspec": {
   "display_name": "Python 3",
   "language": "python",
   "name": "python3"
  },
  "language_info": {
   "codemirror_mode": {
    "name": "ipython",
    "version": 3
   },
   "file_extension": ".py",
   "mimetype": "text/x-python",
   "name": "python",
   "nbconvert_exporter": "python",
   "pygments_lexer": "ipython3",
   "version": "3.10.0"
  }
 },
 "nbformat": 4,
 "nbformat_minor": 2
}

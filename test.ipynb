{
 "cells": [
  {
   "cell_type": "code",
   "execution_count": 13,
   "metadata": {},
   "outputs": [],
   "source": [
    "import pandas as pd\n",
    "from sklearn.model_selection import train_test_split\n",
    "from sklearn.ensemble import RandomForestClassifier\n",
    "from sklearn.metrics import accuracy_score, classification_report\n"
   ]
  },
  {
   "cell_type": "code",
   "execution_count": 14,
   "metadata": {},
   "outputs": [],
   "source": [
    "df = pd.read_csv('./Training.csv')\n"
   ]
  },
  {
   "cell_type": "code",
   "execution_count": 15,
   "metadata": {},
   "outputs": [
    {
     "name": "stdout",
     "output_type": "stream",
     "text": [
      "   itching  skin_rash  nodal_skin_eruptions  continuous_sneezing  shivering  \\\n",
      "0        1          1                     1                    0          0   \n",
      "1        0          1                     1                    0          0   \n",
      "2        1          0                     1                    0          0   \n",
      "3        1          1                     0                    0          0   \n",
      "4        1          1                     1                    0          0   \n",
      "\n",
      "   chills  joint_pain  stomach_pain  acidity  ulcers_on_tongue  ...  scurring  \\\n",
      "0       0           0             0        0                 0  ...         0   \n",
      "1       0           0             0        0                 0  ...         0   \n",
      "2       0           0             0        0                 0  ...         0   \n",
      "3       0           0             0        0                 0  ...         0   \n",
      "4       0           0             0        0                 0  ...         0   \n",
      "\n",
      "   skin_peeling  silver_like_dusting  small_dents_in_nails  \\\n",
      "0             0                    0                     0   \n",
      "1             0                    0                     0   \n",
      "2             0                    0                     0   \n",
      "3             0                    0                     0   \n",
      "4             0                    0                     0   \n",
      "\n",
      "   inflammatory_nails  blister  red_sore_around_nose  yellow_crust_ooze  \\\n",
      "0                   0        0                     0                  0   \n",
      "1                   0        0                     0                  0   \n",
      "2                   0        0                     0                  0   \n",
      "3                   0        0                     0                  0   \n",
      "4                   0        0                     0                  0   \n",
      "\n",
      "          prognosis  Unnamed: 133  \n",
      "0  Fungal infection           NaN  \n",
      "1  Fungal infection           NaN  \n",
      "2  Fungal infection           NaN  \n",
      "3  Fungal infection           NaN  \n",
      "4  Fungal infection           NaN  \n",
      "\n",
      "[5 rows x 134 columns]\n",
      "<class 'pandas.core.frame.DataFrame'>\n",
      "RangeIndex: 4920 entries, 0 to 4919\n",
      "Columns: 134 entries, itching to Unnamed: 133\n",
      "dtypes: float64(1), int64(132), object(1)\n",
      "memory usage: 5.0+ MB\n",
      "None\n",
      "           itching    skin_rash  nodal_skin_eruptions  continuous_sneezing  \\\n",
      "count  4920.000000  4920.000000           4920.000000          4920.000000   \n",
      "mean      0.137805     0.159756              0.021951             0.045122   \n",
      "std       0.344730     0.366417              0.146539             0.207593   \n",
      "min       0.000000     0.000000              0.000000             0.000000   \n",
      "25%       0.000000     0.000000              0.000000             0.000000   \n",
      "50%       0.000000     0.000000              0.000000             0.000000   \n",
      "75%       0.000000     0.000000              0.000000             0.000000   \n",
      "max       1.000000     1.000000              1.000000             1.000000   \n",
      "\n",
      "         shivering       chills   joint_pain  stomach_pain      acidity  \\\n",
      "count  4920.000000  4920.000000  4920.000000   4920.000000  4920.000000   \n",
      "mean      0.021951     0.162195     0.139024      0.045122     0.045122   \n",
      "std       0.146539     0.368667     0.346007      0.207593     0.207593   \n",
      "min       0.000000     0.000000     0.000000      0.000000     0.000000   \n",
      "25%       0.000000     0.000000     0.000000      0.000000     0.000000   \n",
      "50%       0.000000     0.000000     0.000000      0.000000     0.000000   \n",
      "75%       0.000000     0.000000     0.000000      0.000000     0.000000   \n",
      "max       1.000000     1.000000     1.000000      1.000000     1.000000   \n",
      "\n",
      "       ulcers_on_tongue  ...   blackheads     scurring  skin_peeling  \\\n",
      "count       4920.000000  ...  4920.000000  4920.000000   4920.000000   \n",
      "mean           0.021951  ...     0.021951     0.021951      0.023171   \n",
      "std            0.146539  ...     0.146539     0.146539      0.150461   \n",
      "min            0.000000  ...     0.000000     0.000000      0.000000   \n",
      "25%            0.000000  ...     0.000000     0.000000      0.000000   \n",
      "50%            0.000000  ...     0.000000     0.000000      0.000000   \n",
      "75%            0.000000  ...     0.000000     0.000000      0.000000   \n",
      "max            1.000000  ...     1.000000     1.000000      1.000000   \n",
      "\n",
      "       silver_like_dusting  small_dents_in_nails  inflammatory_nails  \\\n",
      "count          4920.000000           4920.000000         4920.000000   \n",
      "mean              0.023171              0.023171            0.023171   \n",
      "std               0.150461              0.150461            0.150461   \n",
      "min               0.000000              0.000000            0.000000   \n",
      "25%               0.000000              0.000000            0.000000   \n",
      "50%               0.000000              0.000000            0.000000   \n",
      "75%               0.000000              0.000000            0.000000   \n",
      "max               1.000000              1.000000            1.000000   \n",
      "\n",
      "           blister  red_sore_around_nose  yellow_crust_ooze  Unnamed: 133  \n",
      "count  4920.000000           4920.000000        4920.000000           0.0  \n",
      "mean      0.023171              0.023171           0.023171           NaN  \n",
      "std       0.150461              0.150461           0.150461           NaN  \n",
      "min       0.000000              0.000000           0.000000           NaN  \n",
      "25%       0.000000              0.000000           0.000000           NaN  \n",
      "50%       0.000000              0.000000           0.000000           NaN  \n",
      "75%       0.000000              0.000000           0.000000           NaN  \n",
      "max       1.000000              1.000000           1.000000           NaN  \n",
      "\n",
      "[8 rows x 133 columns]\n"
     ]
    }
   ],
   "source": [
    "# İlk beş satırı göstermek için\n",
    "print(df.head())\n",
    "\n",
    "# Veri setinin genel bir özeti için\n",
    "print(df.info())\n",
    "\n",
    "# Basit istatistikler için\n",
    "print(df.describe())\n"
   ]
  },
  {
   "cell_type": "code",
   "execution_count": 16,
   "metadata": {},
   "outputs": [],
   "source": [
    "df.dropna(inplace=True)\n"
   ]
  }
 ],
 "metadata": {
  "kernelspec": {
   "display_name": "Python 3",
   "language": "python",
   "name": "python3"
  },
  "language_info": {
   "codemirror_mode": {
    "name": "ipython",
    "version": 3
   },
   "file_extension": ".py",
   "mimetype": "text/x-python",
   "name": "python",
   "nbconvert_exporter": "python",
   "pygments_lexer": "ipython3",
   "version": "3.10.0"
  }
 },
 "nbformat": 4,
 "nbformat_minor": 2
}

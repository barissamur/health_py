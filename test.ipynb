{
 "cells": [
  {
   "cell_type": "code",
   "execution_count": 63,
   "metadata": {},
   "outputs": [],
   "source": [
    "import pandas as pd\n",
    "from sklearn.model_selection import train_test_split\n",
    "from sklearn.ensemble import RandomForestClassifier\n",
    "from sklearn.metrics import accuracy_score, classification_report\n",
    "from sklearn.preprocessing import LabelEncoder\n",
    "from sklearn.model_selection import cross_val_score\n",
    "from sklearn.metrics import accuracy_score, confusion_matrix, classification_report"
   ]
  },
  {
   "cell_type": "code",
   "execution_count": 8,
   "metadata": {},
   "outputs": [
    {
     "name": "stdout",
     "output_type": "stream",
     "text": [
      "   itching  skin_rash  nodal_skin_eruptions  continuous_sneezing  shivering  \\\n",
      "0        1          1                     1                    0          0   \n",
      "1        0          1                     1                    0          0   \n",
      "2        1          0                     1                    0          0   \n",
      "3        1          1                     0                    0          0   \n",
      "4        1          1                     1                    0          0   \n",
      "\n",
      "   chills  joint_pain  stomach_pain  acidity  ulcers_on_tongue  ...  scurring  \\\n",
      "0       0           0             0        0                 0  ...         0   \n",
      "1       0           0             0        0                 0  ...         0   \n",
      "2       0           0             0        0                 0  ...         0   \n",
      "3       0           0             0        0                 0  ...         0   \n",
      "4       0           0             0        0                 0  ...         0   \n",
      "\n",
      "   skin_peeling  silver_like_dusting  small_dents_in_nails  \\\n",
      "0             0                    0                     0   \n",
      "1             0                    0                     0   \n",
      "2             0                    0                     0   \n",
      "3             0                    0                     0   \n",
      "4             0                    0                     0   \n",
      "\n",
      "   inflammatory_nails  blister  red_sore_around_nose  yellow_crust_ooze  \\\n",
      "0                   0        0                     0                  0   \n",
      "1                   0        0                     0                  0   \n",
      "2                   0        0                     0                  0   \n",
      "3                   0        0                     0                  0   \n",
      "4                   0        0                     0                  0   \n",
      "\n",
      "          prognosis  Unnamed: 133  \n",
      "0  Fungal infection           NaN  \n",
      "1  Fungal infection           NaN  \n",
      "2  Fungal infection           NaN  \n",
      "3  Fungal infection           NaN  \n",
      "4  Fungal infection           NaN  \n",
      "\n",
      "[5 rows x 134 columns]\n",
      "<class 'pandas.core.frame.DataFrame'>\n",
      "RangeIndex: 4920 entries, 0 to 4919\n",
      "Columns: 134 entries, itching to Unnamed: 133\n",
      "dtypes: float64(1), int64(132), object(1)\n",
      "memory usage: 5.0+ MB\n",
      "None\n",
      "           itching    skin_rash  nodal_skin_eruptions  continuous_sneezing  \\\n",
      "count  4920.000000  4920.000000           4920.000000          4920.000000   \n",
      "mean      0.137805     0.159756              0.021951             0.045122   \n",
      "std       0.344730     0.366417              0.146539             0.207593   \n",
      "min       0.000000     0.000000              0.000000             0.000000   \n",
      "25%       0.000000     0.000000              0.000000             0.000000   \n",
      "50%       0.000000     0.000000              0.000000             0.000000   \n",
      "75%       0.000000     0.000000              0.000000             0.000000   \n",
      "max       1.000000     1.000000              1.000000             1.000000   \n",
      "\n",
      "         shivering       chills   joint_pain  stomach_pain      acidity  \\\n",
      "count  4920.000000  4920.000000  4920.000000   4920.000000  4920.000000   \n",
      "mean      0.021951     0.162195     0.139024      0.045122     0.045122   \n",
      "std       0.146539     0.368667     0.346007      0.207593     0.207593   \n",
      "min       0.000000     0.000000     0.000000      0.000000     0.000000   \n",
      "25%       0.000000     0.000000     0.000000      0.000000     0.000000   \n",
      "50%       0.000000     0.000000     0.000000      0.000000     0.000000   \n",
      "75%       0.000000     0.000000     0.000000      0.000000     0.000000   \n",
      "max       1.000000     1.000000     1.000000      1.000000     1.000000   \n",
      "\n",
      "       ulcers_on_tongue  ...   blackheads     scurring  skin_peeling  \\\n",
      "count       4920.000000  ...  4920.000000  4920.000000   4920.000000   \n",
      "mean           0.021951  ...     0.021951     0.021951      0.023171   \n",
      "std            0.146539  ...     0.146539     0.146539      0.150461   \n",
      "min            0.000000  ...     0.000000     0.000000      0.000000   \n",
      "25%            0.000000  ...     0.000000     0.000000      0.000000   \n",
      "50%            0.000000  ...     0.000000     0.000000      0.000000   \n",
      "75%            0.000000  ...     0.000000     0.000000      0.000000   \n",
      "max            1.000000  ...     1.000000     1.000000      1.000000   \n",
      "\n",
      "       silver_like_dusting  small_dents_in_nails  inflammatory_nails  \\\n",
      "count          4920.000000           4920.000000         4920.000000   \n",
      "mean              0.023171              0.023171            0.023171   \n",
      "std               0.150461              0.150461            0.150461   \n",
      "min               0.000000              0.000000            0.000000   \n",
      "25%               0.000000              0.000000            0.000000   \n",
      "50%               0.000000              0.000000            0.000000   \n",
      "75%               0.000000              0.000000            0.000000   \n",
      "max               1.000000              1.000000            1.000000   \n",
      "\n",
      "           blister  red_sore_around_nose  yellow_crust_ooze  Unnamed: 133  \n",
      "count  4920.000000           4920.000000        4920.000000           0.0  \n",
      "mean      0.023171              0.023171           0.023171           NaN  \n",
      "std       0.150461              0.150461           0.150461           NaN  \n",
      "min       0.000000              0.000000           0.000000           NaN  \n",
      "25%       0.000000              0.000000           0.000000           NaN  \n",
      "50%       0.000000              0.000000           0.000000           NaN  \n",
      "75%       0.000000              0.000000           0.000000           NaN  \n",
      "max       1.000000              1.000000           1.000000           NaN  \n",
      "\n",
      "[8 rows x 133 columns]\n"
     ]
    }
   ],
   "source": [
    "# Veri setini yüklemek\n",
    "df = pd.read_csv(\"Training.csv\")  # Dosya yolu ve adını doğru şekilde girin\n",
    "\n",
    "# İlk beş satırı göstermek\n",
    "print(df.head())\n",
    "\n",
    "# Veri setinin genel bilgilerini göstermek\n",
    "print(df.info())\n",
    "\n",
    "# Basit istatistikleri göstermek\n",
    "print(df.describe())"
   ]
  },
  {
   "cell_type": "code",
   "execution_count": 9,
   "metadata": {},
   "outputs": [
    {
     "name": "stdout",
     "output_type": "stream",
     "text": [
      "   itching  skin_rash  nodal_skin_eruptions  continuous_sneezing  shivering  \\\n",
      "0        1          1                     1                    0          0   \n",
      "1        0          1                     1                    0          0   \n",
      "2        1          0                     1                    0          0   \n",
      "3        1          1                     0                    0          0   \n",
      "4        1          1                     1                    0          0   \n",
      "\n",
      "   chills  joint_pain  stomach_pain  acidity  ulcers_on_tongue  ...  scurring  \\\n",
      "0       0           0             0        0                 0  ...         0   \n",
      "1       0           0             0        0                 0  ...         0   \n",
      "2       0           0             0        0                 0  ...         0   \n",
      "3       0           0             0        0                 0  ...         0   \n",
      "4       0           0             0        0                 0  ...         0   \n",
      "\n",
      "   skin_peeling  silver_like_dusting  small_dents_in_nails  \\\n",
      "0             0                    0                     0   \n",
      "1             0                    0                     0   \n",
      "2             0                    0                     0   \n",
      "3             0                    0                     0   \n",
      "4             0                    0                     0   \n",
      "\n",
      "   inflammatory_nails  blister  red_sore_around_nose  yellow_crust_ooze  \\\n",
      "0                   0        0                     0                  0   \n",
      "1                   0        0                     0                  0   \n",
      "2                   0        0                     0                  0   \n",
      "3                   0        0                     0                  0   \n",
      "4                   0        0                     0                  0   \n",
      "\n",
      "          prognosis  Unnamed: 133  \n",
      "0  Fungal infection           NaN  \n",
      "1  Fungal infection           NaN  \n",
      "2  Fungal infection           NaN  \n",
      "3  Fungal infection           NaN  \n",
      "4  Fungal infection           NaN  \n",
      "\n",
      "[5 rows x 134 columns]\n"
     ]
    }
   ],
   "source": [
    "print(df.head())"
   ]
  },
  {
   "cell_type": "code",
   "execution_count": 10,
   "metadata": {},
   "outputs": [],
   "source": [
    "X = df.iloc[:, :-1]  # İlk sütundan başlayarak son sütuna kadar olan tüm sütunlar\n",
    "y = df[\"prognosis\"]  # 'prognosis' sütunu"
   ]
  },
  {
   "cell_type": "code",
   "execution_count": 11,
   "metadata": {},
   "outputs": [],
   "source": [
    "X_train, X_test, y_train, y_test = train_test_split(\n",
    "    X, y, test_size=0.2, random_state=42\n",
    ")"
   ]
  },
  {
   "cell_type": "code",
   "execution_count": 27,
   "metadata": {},
   "outputs": [
    {
     "name": "stdout",
     "output_type": "stream",
     "text": [
      "(4920, 133)\n",
      "(4920,)\n"
     ]
    }
   ],
   "source": [
    "print(X.shape)\n",
    "print(y.shape)"
   ]
  },
  {
   "cell_type": "code",
   "execution_count": 30,
   "metadata": {},
   "outputs": [
    {
     "name": "stdout",
     "output_type": "stream",
     "text": [
      "   itching  skin_rash  nodal_skin_eruptions  continuous_sneezing  shivering  \\\n",
      "0        1          1                     1                    0          0   \n",
      "1        0          1                     1                    0          0   \n",
      "2        1          0                     1                    0          0   \n",
      "3        1          1                     0                    0          0   \n",
      "4        1          1                     1                    0          0   \n",
      "\n",
      "   chills  joint_pain  stomach_pain  acidity  ulcers_on_tongue  ...  \\\n",
      "0       0           0             0        0                 0  ...   \n",
      "1       0           0             0        0                 0  ...   \n",
      "2       0           0             0        0                 0  ...   \n",
      "3       0           0             0        0                 0  ...   \n",
      "4       0           0             0        0                 0  ...   \n",
      "\n",
      "   blackheads  scurring  skin_peeling  silver_like_dusting  \\\n",
      "0           0         0             0                    0   \n",
      "1           0         0             0                    0   \n",
      "2           0         0             0                    0   \n",
      "3           0         0             0                    0   \n",
      "4           0         0             0                    0   \n",
      "\n",
      "   small_dents_in_nails  inflammatory_nails  blister  red_sore_around_nose  \\\n",
      "0                     0                   0        0                     0   \n",
      "1                     0                   0        0                     0   \n",
      "2                     0                   0        0                     0   \n",
      "3                     0                   0        0                     0   \n",
      "4                     0                   0        0                     0   \n",
      "\n",
      "   yellow_crust_ooze         prognosis  \n",
      "0                  0  Fungal infection  \n",
      "1                  0  Fungal infection  \n",
      "2                  0  Fungal infection  \n",
      "3                  0  Fungal infection  \n",
      "4                  0  Fungal infection  \n",
      "\n",
      "[5 rows x 133 columns]\n",
      "0    Fungal infection\n",
      "1    Fungal infection\n",
      "2    Fungal infection\n",
      "3    Fungal infection\n",
      "4    Fungal infection\n",
      "Name: prognosis, dtype: object\n"
     ]
    }
   ],
   "source": [
    "# Özellikler ve hedef değişkeni ayırma\n",
    "X = df.iloc[:, :-1]  # son sütun hariç tüm sütunlar\n",
    "y = df[\"prognosis\"]  # son sütun\n",
    "\n",
    "# Veriyi kontrol etme (isteğe bağlı)\n",
    "print(X.head())\n",
    "print(y.head())"
   ]
  },
  {
   "cell_type": "code",
   "execution_count": 31,
   "metadata": {},
   "outputs": [
    {
     "name": "stdout",
     "output_type": "stream",
     "text": [
      "Eğitim seti boyutu: (3936, 133)\n",
      "Test seti boyutu: (984, 133)\n"
     ]
    }
   ],
   "source": [
    "# Veriyi eğitim ve test setlerine ayırma\n",
    "X_train, X_test, y_train, y_test = train_test_split(\n",
    "    X, y, test_size=0.2, random_state=42\n",
    ")\n",
    "\n",
    "# Ayırma işleminin sonuçlarını kontrol etme (isteğe bağlı)\n",
    "print(\"Eğitim seti boyutu:\", X_train.shape)\n",
    "print(\"Test seti boyutu:\", X_test.shape)"
   ]
  },
  {
   "cell_type": "code",
   "execution_count": 44,
   "metadata": {},
   "outputs": [],
   "source": [
    "# LabelEncoder nesnesini oluştur\n",
    "label_encoder = LabelEncoder()\n",
    "\n",
    "# Eğitim ve test verilerindeki hastalık adlarını sayısal değerlere dönüştür\n",
    "y_train_encoded = label_encoder.fit_transform(y_train)\n",
    "y_test_encoded = label_encoder.transform(y_test)\n",
    " "
   ]
  },
  {
   "cell_type": "code",
   "execution_count": 60,
   "metadata": {},
   "outputs": [],
   "source": [
    "# 'prognosis' sütununu X_train veri setinden çıkar\n",
    "X_train = X_train.drop(\"prognosis\", axis=1)"
   ]
  },
  {
   "cell_type": "code",
   "execution_count": 49,
   "metadata": {},
   "outputs": [
    {
     "name": "stdout",
     "output_type": "stream",
     "text": [
      "itching                 int64\n",
      "skin_rash               int64\n",
      "nodal_skin_eruptions    int64\n",
      "continuous_sneezing     int64\n",
      "shivering               int64\n",
      "                        ...  \n",
      "small_dents_in_nails    int64\n",
      "inflammatory_nails      int64\n",
      "blister                 int64\n",
      "red_sore_around_nose    int64\n",
      "yellow_crust_ooze       int64\n",
      "Length: 132, dtype: object\n"
     ]
    }
   ],
   "source": [
    "# X_train veri setindeki tüm sütunların veri tiplerini kontrol etme\n",
    "print(X_train.dtypes)"
   ]
  },
  {
   "cell_type": "code",
   "execution_count": 51,
   "metadata": {},
   "outputs": [
    {
     "name": "stdout",
     "output_type": "stream",
     "text": [
      "Modelin doğruluk oranı: 1.0\n"
     ]
    }
   ],
   "source": [
    "# RandomForestClassifier modelini oluşturma\n",
    "model = RandomForestClassifier()\n",
    "\n",
    "# Modeli eğitme\n",
    "model.fit(X_train, y_train_encoded)\n",
    "\n",
    "# Test veri setinden 'prognosis' sütununu çıkarma\n",
    "X_test = X_test.drop(columns=[\"prognosis\"])\n",
    "\n",
    "# Modeli tekrar test etme\n",
    "y_pred = model.predict(X_test)\n",
    "\n",
    "# Modelin performansını değerlendirme\n",
    "accuracy = accuracy_score(y_test_encoded, y_pred)\n",
    "print(\"Modelin doğruluk oranı:\", accuracy)"
   ]
  },
  {
   "cell_type": "code",
   "execution_count": 55,
   "metadata": {},
   "outputs": [
    {
     "name": "stdout",
     "output_type": "stream",
     "text": [
      "X'in boyutları: (4920, 133)\n",
      "y_train_encoded'ın boyutları: (3936,)\n"
     ]
    }
   ],
   "source": [
    "print(\"X'in boyutları:\", X.shape)\n",
    "print(\"y_train_encoded'ın boyutları:\", y_train_encoded.shape)"
   ]
  },
  {
   "cell_type": "code",
   "execution_count": 56,
   "metadata": {},
   "outputs": [
    {
     "name": "stdout",
     "output_type": "stream",
     "text": [
      "X_train boyutları: (3936, 133)\n",
      "y_train_encoded boyutları: (3936,)\n",
      "X_test boyutları: (984, 133)\n",
      "y_test_encoded boyutları: (984,)\n"
     ]
    }
   ],
   "source": [
    "# X ve y veri setlerini bölme\n",
    "X_train, X_test, y_train, y_test = train_test_split(\n",
    "    X, y, test_size=0.2, random_state=42\n",
    ")\n",
    "\n",
    "# y_train ve y_test etiketlerini sayısal değerlere dönüştürme\n",
    "y_train_encoded = label_encoder.fit_transform(y_train)\n",
    "y_test_encoded = label_encoder.transform(y_test)\n",
    "\n",
    "# Boyutları kontrol etme\n",
    "print(\"X_train boyutları:\", X_train.shape)\n",
    "print(\"y_train_encoded boyutları:\", y_train_encoded.shape)\n",
    "print(\"X_test boyutları:\", X_test.shape)\n",
    "print(\"y_test_encoded boyutları:\", y_test_encoded.shape)"
   ]
  },
  {
   "cell_type": "code",
   "execution_count": 61,
   "metadata": {},
   "outputs": [
    {
     "name": "stdout",
     "output_type": "stream",
     "text": [
      "Çapraz Doğrulama Skorları: [1. 1. 1. 1. 1.]\n",
      "Ortalama Çapraz Doğrulama Skoru: 1.0\n"
     ]
    }
   ],
   "source": [
    "model = RandomForestClassifier()\n",
    "\n",
    "# 5-fold çapraz doğrulama yap\n",
    "cv_scores = cross_val_score(model, X_train, y_train_encoded, cv=5)\n",
    "\n",
    "# Çapraz doğrulama skorlarını yazdır\n",
    "print(\"Çapraz Doğrulama Skorları:\", cv_scores)\n",
    "\n",
    "# Skorların ortalamasını al\n",
    "print(\"Ortalama Çapraz Doğrulama Skoru:\", cv_scores.mean())"
   ]
  },
  {
   "cell_type": "code",
   "execution_count": 62,
   "metadata": {},
   "outputs": [],
   "source": [
    "test_df = pd.read_csv(\"Testing.csv\")  # Dosya yolu ve adını doğru şekilde girin\n",
    "# Önişleme: Boş veri kontrolü ve gerekirse doldurma ya da çıkarma\n",
    "# Örnek olarak boş verileri çıkarma:\n",
    "test_df = test_df.dropna()\n",
    "\n",
    "# Feature ve Target ayırma\n",
    "X_test = test_df.iloc[:, :-1]  # Son sütun hariç tüm sütunlar\n",
    "y_test = test_df.iloc[:, -1]  # Son sütun\n",
    "\n",
    "# Eğitim setinde kullanılan LabelEncoder ile hedef değişkeni dönüştürme\n",
    "label_encoder = LabelEncoder()\n",
    "y_test_encoded = label_encoder.fit_transform(y_test)"
   ]
  },
  {
   "cell_type": "code",
   "execution_count": 65,
   "metadata": {},
   "outputs": [
    {
     "name": "stdout",
     "output_type": "stream",
     "text": [
      "Modelin doğruluk oranı: 1.0\n",
      "\n",
      "Hata Matrisi:\n",
      " [[1 0 0 ... 0 0 0]\n",
      " [0 1 0 ... 0 0 0]\n",
      " [0 0 1 ... 0 0 0]\n",
      " ...\n",
      " [0 0 0 ... 1 0 0]\n",
      " [0 0 0 ... 0 1 0]\n",
      " [0 0 0 ... 0 0 1]]\n",
      "\n",
      "Sınıflandırma Raporu:\n",
      "               precision    recall  f1-score   support\n",
      "\n",
      "           0       1.00      1.00      1.00         1\n",
      "           1       1.00      1.00      1.00         1\n",
      "           2       1.00      1.00      1.00         1\n",
      "           3       1.00      1.00      1.00         1\n",
      "           4       1.00      1.00      1.00         1\n",
      "           5       1.00      1.00      1.00         1\n",
      "           6       1.00      1.00      1.00         1\n",
      "           7       1.00      1.00      1.00         1\n",
      "           8       1.00      1.00      1.00         1\n",
      "           9       1.00      1.00      1.00         1\n",
      "          10       1.00      1.00      1.00         1\n",
      "          11       1.00      1.00      1.00         1\n",
      "          12       1.00      1.00      1.00         1\n",
      "          13       1.00      1.00      1.00         1\n",
      "          14       1.00      1.00      1.00         1\n",
      "          15       1.00      1.00      1.00         2\n",
      "          16       1.00      1.00      1.00         1\n",
      "          17       1.00      1.00      1.00         1\n",
      "          18       1.00      1.00      1.00         1\n",
      "          19       1.00      1.00      1.00         1\n",
      "          20       1.00      1.00      1.00         1\n",
      "          21       1.00      1.00      1.00         1\n",
      "          22       1.00      1.00      1.00         1\n",
      "          23       1.00      1.00      1.00         1\n",
      "          24       1.00      1.00      1.00         1\n",
      "          25       1.00      1.00      1.00         1\n",
      "          26       1.00      1.00      1.00         1\n",
      "          27       1.00      1.00      1.00         1\n",
      "          28       1.00      1.00      1.00         1\n",
      "          29       1.00      1.00      1.00         1\n",
      "          30       1.00      1.00      1.00         1\n",
      "          31       1.00      1.00      1.00         1\n",
      "          32       1.00      1.00      1.00         1\n",
      "          33       1.00      1.00      1.00         1\n",
      "          34       1.00      1.00      1.00         1\n",
      "          35       1.00      1.00      1.00         1\n",
      "          36       1.00      1.00      1.00         1\n",
      "          37       1.00      1.00      1.00         1\n",
      "          38       1.00      1.00      1.00         1\n",
      "          39       1.00      1.00      1.00         1\n",
      "          40       1.00      1.00      1.00         1\n",
      "\n",
      "    accuracy                           1.00        42\n",
      "   macro avg       1.00      1.00      1.00        42\n",
      "weighted avg       1.00      1.00      1.00        42\n",
      "\n"
     ]
    }
   ],
   "source": [
    "model = RandomForestClassifier()\n",
    "model.fit(X_train, y_train_encoded)\n",
    "\n",
    "\n",
    "# Modeli kullanarak test verisi üzerinde tahmin yapma\n",
    "y_pred = model.predict(X_test)\n",
    "\n",
    "# Modelin doğruluk oranını hesaplama\n",
    "accuracy = accuracy_score(y_test_encoded, y_pred)\n",
    "print(\"Modelin doğruluk oranı:\", accuracy)\n",
    "\n",
    "# Hata matrisini ve sınıflandırma raporunu yazdırma\n",
    "conf_matrix = confusion_matrix(y_test_encoded, y_pred)\n",
    "print(\"\\nHata Matrisi:\\n\", conf_matrix)\n",
    "\n",
    "class_report = classification_report(y_test_encoded, y_pred)\n",
    "print(\"\\nSınıflandırma Raporu:\\n\", class_report)"
   ]
  },
  {
   "cell_type": "code",
   "execution_count": 75,
   "metadata": {},
   "outputs": [
    {
     "name": "stdout",
     "output_type": "stream",
     "text": [
      "Tahmin edilen hastalık: Fungal infection\n"
     ]
    },
    {
     "name": "stderr",
     "output_type": "stream",
     "text": [
      "c:\\Users\\bar\\AppData\\Local\\Programs\\Python\\Python310\\lib\\site-packages\\sklearn\\base.py:493: UserWarning: X does not have valid feature names, but RandomForestClassifier was fitted with feature names\n",
      "  warnings.warn(\n"
     ]
    }
   ],
   "source": [
    "# Kullanıcıdan girdi almak için fonksiyon\n",
    "def kullanici_girdisi_al(sorular):\n",
    "    kullanici_girdileri = []\n",
    "    for soru in sorular:\n",
    "        cevap = input(soru + \" (evet/hayır): \").strip().lower()\n",
    "        kullanici_girdileri.append(cevap)\n",
    "    return kullanici_girdileri\n",
    "\n",
    "\n",
    "# Modeli kullanarak tahmin yapmak için fonksiyon\n",
    "def tahmin_yap(model, label_encoder, girdiler, ozellik_sayisi):\n",
    "    # Girdileri sayısal değerlere dönüştür\n",
    "    sayisal_girdiler = [1 if gir == \"evet\" else 0 for gir in girdiler]\n",
    "    # Eksik özellikleri sıfırlarla tamamla\n",
    "    sayisal_girdiler += [0] * (ozellik_sayisi - len(girdiler))\n",
    "    tahmin = model.predict([sayisal_girdiler])\n",
    "    # Tahmin edilen hastalığı döndür\n",
    "    return label_encoder.inverse_transform(tahmin)[0]\n",
    "\n",
    "\n",
    "# Kullanıcıdan belirtileri al\n",
    "sorular = [\n",
    "    \"Kaşıntınız var mı\",\n",
    "    \"Ciltte döküntü var mı\",\n",
    "    \"Nefes darlığı yaşıyor musunuz\",\n",
    "    \"Ateşiniz var mı\",\n",
    "    \"Eklem ağrınız var mı\",\n",
    "    \"Mide ağrınız var mı\",\n",
    "    \"Asitlik problemi yaşıyor musunuz\",\n",
    "    \"Dilde ülser var mı\",\n",
    "    \"Kas kaybı yaşıyor musunuz\",\n",
    "    \"Kusma problemi var mı\",\n",
    "]\n",
    "kullanici_girdileri = kullanici_girdisi_al(sorular)\n",
    "\n",
    "# Tahmini yap\n",
    "tahmin_edilen_hastalik = tahmin_yap(model, label_encoder, kullanici_girdileri, 132)\n",
    "\n",
    "# Sonucu yazdır\n",
    "print(\"Tahmin edilen hastalık:\", tahmin_edilen_hastalik)"
   ]
  }
 ],
 "metadata": {
  "kernelspec": {
   "display_name": "Python 3",
   "language": "python",
   "name": "python3"
  },
  "language_info": {
   "codemirror_mode": {
    "name": "ipython",
    "version": 3
   },
   "file_extension": ".py",
   "mimetype": "text/x-python",
   "name": "python",
   "nbconvert_exporter": "python",
   "pygments_lexer": "ipython3",
   "version": "3.10.0"
  }
 },
 "nbformat": 4,
 "nbformat_minor": 2
}
